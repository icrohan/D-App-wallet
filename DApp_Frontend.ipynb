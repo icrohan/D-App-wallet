{
  "nbformat": 4,
  "nbformat_minor": 0,
  "metadata": {
    "colab": {
      "provenance": [],
      "authorship_tag": "ABX9TyMjKOORdUtv6N08XusMMzJu",
      "include_colab_link": true
    },
    "kernelspec": {
      "name": "python3",
      "display_name": "Python 3"
    },
    "language_info": {
      "name": "python"
    }
  },
  "cells": [
    {
      "cell_type": "markdown",
      "metadata": {
        "id": "view-in-github",
        "colab_type": "text"
      },
      "source": [
        "<a href=\"https://colab.research.google.com/github/icrohan/D-App-wallet/blob/main/DApp_Frontend.ipynb\" target=\"_parent\"><img src=\"https://colab.research.google.com/assets/colab-badge.svg\" alt=\"Open In Colab\"/></a>"
      ]
    },
    {
      "cell_type": "code",
      "source": [
        "import gradio as gr\n",
        "\n",
        "blockchain_data = {\n",
        "    \"0xAlice\": 10.0,\n",
        "    \"0xBob\": 5.5,\n",
        "    \"0xCharlie\": 8.2\n",
        "}\n",
        "\n",
        "def check_balance(wallet_address):\n",
        "    balance = blockchain_data.get(wallet_address, None)\n",
        "    if balance is not None:\n",
        "        return f\"💰 Balance for {wallet_address}: {balance} ETH\"\n",
        "    else:\n",
        "        return f\"❌ Wallet address {wallet_address} not found.\"\n",
        "\n",
        "def send_eth(sender, receiver, amount):\n",
        "    try:\n",
        "        amount = float(amount)\n",
        "        if sender not in blockchain_data:\n",
        "            return \"❌ Sender not found.\"\n",
        "        if receiver not in blockchain_data:\n",
        "            return \"❌ Receiver not found.\"\n",
        "        if blockchain_data[sender] < amount:\n",
        "            return \"❌ Insufficient funds.\"\n",
        "\n",
        "        blockchain_data[sender] -= amount\n",
        "        blockchain_data[receiver] += amount\n",
        "        return f\"✅ Sent {amount} ETH from {sender} to {receiver}!\"\n",
        "    except:\n",
        "        return \"❌ Error processing transaction.\"\n",
        "\n",
        "with gr.Blocks(title=\"Simple DApp Frontend\") as demo:\n",
        "    gr.Markdown(\"## 💻 Blockchain DApp Frontend\")\n",
        "\n",
        "    with gr.Tab(\"Check Balance\"):\n",
        "        wallet_input = gr.Textbox(label=\"Wallet Address (e.g., 0xAlice)\")\n",
        "        balance_btn = gr.Button(\"Check Balance\")\n",
        "        balance_output = gr.Textbox(label=\"Result\")\n",
        "        balance_btn.click(check_balance, inputs=wallet_input, outputs=balance_output)\n",
        "\n",
        "    with gr.Tab(\"Send ETH\"):\n",
        "        sender = gr.Textbox(label=\"Sender Wallet (e.g., 0xAlice)\")\n",
        "        receiver = gr.Textbox(label=\"Receiver Wallet (e.g., 0xBob)\")\n",
        "        amount = gr.Textbox(label=\"Amount in ETH\")\n",
        "        send_btn = gr.Button(\"Send Transaction\")\n",
        "        send_output = gr.Textbox(label=\"Transaction Status\")\n",
        "        send_btn.click(send_eth, inputs=[sender, receiver, amount], outputs=send_output)\n",
        "\n",
        "demo.launch()\n"
      ],
      "metadata": {
        "colab": {
          "base_uri": "https://localhost:8080/",
          "height": 646
        },
        "id": "htoB8vPKkkm5",
        "outputId": "0f9e0c1e-7f0b-48bd-81f5-24528b1506e7"
      },
      "execution_count": 1,
      "outputs": [
        {
          "output_type": "stream",
          "name": "stdout",
          "text": [
            "It looks like you are running Gradio on a hosted Jupyter notebook, which requires `share=True`. Automatically setting `share=True` (you can turn this off by setting `share=False` in `launch()` explicitly).\n",
            "\n",
            "Colab notebook detected. To show errors in colab notebook, set debug=True in launch()\n",
            "* Running on public URL: https://ffa9367afb88b65250.gradio.live\n",
            "\n",
            "This share link expires in 1 week. For free permanent hosting and GPU upgrades, run `gradio deploy` from the terminal in the working directory to deploy to Hugging Face Spaces (https://huggingface.co/spaces)\n"
          ]
        },
        {
          "output_type": "display_data",
          "data": {
            "text/plain": [
              "<IPython.core.display.HTML object>"
            ],
            "text/html": [
              "<div><iframe src=\"https://ffa9367afb88b65250.gradio.live\" width=\"100%\" height=\"500\" allow=\"autoplay; camera; microphone; clipboard-read; clipboard-write;\" frameborder=\"0\" allowfullscreen></iframe></div>"
            ]
          },
          "metadata": {}
        },
        {
          "output_type": "execute_result",
          "data": {
            "text/plain": []
          },
          "metadata": {},
          "execution_count": 1
        }
      ]
    }
  ]
}